{
 "cells": [
  {
   "cell_type": "markdown",
   "metadata": {},
   "source": [
    "# django-tables2\n",
    "### версия 1.16.0"
   ]
  },
  {
   "cell_type": "markdown",
   "metadata": {},
   "source": [
    "## Установка"
   ]
  },
  {
   "cell_type": "code",
   "execution_count": null,
   "metadata": {},
   "outputs": [],
   "source": [
    "pip install django-tables2"
   ]
  },
  {
   "cell_type": "markdown",
   "metadata": {},
   "source": [
    "## Настройка. settings.py"
   ]
  },
  {
   "cell_type": "markdown",
   "metadata": {},
   "source": [
    "* Добавить `'django-tables2'` в `INSTALLED_APPS`\n",
    "* Добавить `'django.template.context_processors.request'` в `TEMPLATES.OPTIONS.context_processors`"
   ]
  },
  {
   "cell_type": "markdown",
   "metadata": {},
   "source": [
    "***"
   ]
  },
  {
   "cell_type": "markdown",
   "metadata": {},
   "source": [
    "## <u>Быстрый пуск</u>"
   ]
  },
  {
   "cell_type": "markdown",
   "metadata": {},
   "source": [
    "## models.py"
   ]
  },
  {
   "cell_type": "code",
   "execution_count": null,
   "metadata": {},
   "outputs": [],
   "source": [
    "class Person(models.Model):\n",
    "    name = models.CharField(max_length=100, verbose_name='full_name')"
   ]
  },
  {
   "cell_type": "markdown",
   "metadata": {},
   "source": [
    "## views.py"
   ]
  },
  {
   "cell_type": "code",
   "execution_count": null,
   "metadata": {},
   "outputs": [],
   "source": [
    "from django.shortcuts import render\n",
    "from .models Person\n",
    "\n",
    "def people(request):\n",
    "    return render(request, 'people.html', {'people': Person.objects.all()})"
   ]
  },
  {
   "cell_type": "markdown",
   "metadata": {},
   "source": [
    "## Шаблон. people.html"
   ]
  },
  {
   "cell_type": "code",
   "execution_count": null,
   "metadata": {},
   "outputs": [],
   "source": [
    "{% load render_table from django_tables2 %}\n",
    "\n",
    "{% render_table people %}"
   ]
  },
  {
   "cell_type": "markdown",
   "metadata": {},
   "source": [
    "***"
   ]
  },
  {
   "cell_type": "markdown",
   "metadata": {},
   "source": [
    "## <u>Быстрый пуск с использованием tables.py</u>"
   ]
  },
  {
   "cell_type": "markdown",
   "metadata": {},
   "source": [
    "## tables.py"
   ]
  },
  {
   "cell_type": "code",
   "execution_count": null,
   "metadata": {},
   "outputs": [],
   "source": [
    "import django-tables2 as tables\n",
    "from .models import Person\n",
    "\n",
    "class PersonTable(tables.Table):\n",
    "    class Meta:\n",
    "        model = Person\n",
    "        template = 'person.html'"
   ]
  },
  {
   "cell_type": "markdown",
   "metadata": {},
   "source": [
    "## views.py"
   ]
  },
  {
   "cell_type": "code",
   "execution_count": null,
   "metadata": {},
   "outputs": [],
   "source": [
    "from django.shortcuts import render\n",
    "from django-tables2 import RequestConfig\n",
    "from .models import Person\n",
    "from .tables import PersonTable\n",
    "\n",
    "def people(request):\n",
    "    table = PersonTable(Person.objects.all())\n",
    "    RequestConfig(request).configure(table)\n",
    "    return render(request, 'people.html', {'table': table})"
   ]
  },
  {
   "cell_type": "markdown",
   "metadata": {},
   "source": [
    "## Шаблон. people.html"
   ]
  },
  {
   "cell_type": "code",
   "execution_count": null,
   "metadata": {},
   "outputs": [],
   "source": [
    "{% load render_table from django_tables2 %}\n",
    "\n",
    "{% render_table table %}"
   ]
  },
  {
   "cell_type": "markdown",
   "metadata": {},
   "source": [
    "***"
   ]
  },
  {
   "cell_type": "markdown",
   "metadata": {},
   "source": [
    "## <u>FBV</u>"
   ]
  },
  {
   "cell_type": "markdown",
   "metadata": {},
   "source": [
    "## views.py"
   ]
  },
  {
   "cell_type": "code",
   "execution_count": null,
   "metadata": {},
   "outputs": [],
   "source": [
    "from django.shortcuts import render\n",
    "from .models import Person\n",
    "from .tables import PersonTable\n",
    "\n",
    "def people(request):\n",
    "    table = PersonTable(Person.objects.all())\n",
    "\n",
    "    return render(request, 'people.html', {'table': table})"
   ]
  },
  {
   "cell_type": "markdown",
   "metadata": {},
   "source": [
    "***"
   ]
  },
  {
   "cell_type": "markdown",
   "metadata": {},
   "source": [
    "## <u>CBV</u>"
   ]
  },
  {
   "cell_type": "markdown",
   "metadata": {},
   "source": [
    "## models.py"
   ]
  },
  {
   "cell_type": "code",
   "execution_count": null,
   "metadata": {},
   "outputs": [],
   "source": [
    "class Person(models.Model):\n",
    "    name = models.CharField(max_length=100, verbose_name='full_name')\n",
    "    age = models.IntegerField()"
   ]
  },
  {
   "cell_type": "markdown",
   "metadata": {},
   "source": [
    "## tables.py"
   ]
  },
  {
   "cell_type": "code",
   "execution_count": null,
   "metadata": {},
   "outputs": [],
   "source": [
    "import django-tables2 as tables\n",
    "import itertools\n",
    "from .models import Person\n",
    "\n",
    "class PersonTable(tables.Table):\n",
    "    row_number = tables.Column(empty_values=()) # создаем свое поле\n",
    "    age = tables.Column()\n",
    "    \n",
    "    def __init__(self, *args, **kwargs):\n",
    "        super(PersonTable, self).__init__(*args, **kwargs)\n",
    "        self.counter = itertools.count()\n",
    "        \n",
    "    def render_row_number(self): # кастомизация с помощью render_ПОЛЕ\n",
    "        return 'Row {}'.format(next(self.counter))\n",
    "    \n",
    "    def render_age(self, value):\n",
    "        return '{} лет'.format(value)\n",
    "    \n",
    "    class Meta:\n",
    "        model = Person\n",
    "        template = 'person.html'"
   ]
  },
  {
   "cell_type": "markdown",
   "metadata": {},
   "source": [
    "### Метод Table.render_foo"
   ]
  },
  {
   "cell_type": "markdown",
   "metadata": {},
   "source": [
    "Изменение вида всего столбца таблицы. foo - имя столбца."
   ]
  },
  {
   "cell_type": "markdown",
   "metadata": {},
   "source": [
    "Аргументы:\n",
    "* **record** - вся строка\n",
    "* **value** - значение ячейки\n",
    "* **column** - объект *Column*\n",
    "* **bound_column** - объект *BoundColumn*\n",
    "* **bound_row** - объект *BoundRow*\n",
    "* **table** - псевдоним *self*"
   ]
  }
 ],
 "metadata": {
  "kernelspec": {
   "display_name": "Python 3",
   "language": "python",
   "name": "python3"
  },
  "language_info": {
   "codemirror_mode": {
    "name": "ipython",
    "version": 3
   },
   "file_extension": ".py",
   "mimetype": "text/x-python",
   "name": "python",
   "nbconvert_exporter": "python",
   "pygments_lexer": "ipython3",
   "version": "3.5.2"
  }
 },
 "nbformat": 4,
 "nbformat_minor": 2
}
